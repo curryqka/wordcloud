{
 "cells": [
  {
   "cell_type": "code",
   "execution_count": 1,
   "id": "bdb26df1",
   "metadata": {},
   "outputs": [],
   "source": [
    "import jieba\n",
    "import wordcloud"
   ]
  },
  {
   "cell_type": "code",
   "execution_count": null,
   "id": "cdaaabf5",
   "metadata": {},
   "outputs": [],
   "source": [
    "f = open(\"自我介绍.txt\", \"r\", encoding=\"utf-8\")\n",
    "\n",
    "t = f.read()\n",
    "f.close()\n",
    "ls = jieba.lcut(t)\n",
    "\n",
    "txt = \" \".join(ls)\n",
    "w = wordcloud.WordCloud( \\\n",
    "    width = 1000, height = 700,\\\n",
    "    background_color = \"white\",\n",
    "    font_path = \"msyh.ttc\"    \n",
    "    )\n",
    "w.generate(txt)\n",
    "w.to_file(\"grwordcloud.png\")"
   ]
  },
  {
   "cell_type": "code",
   "execution_count": null,
   "id": "29b99e68",
   "metadata": {},
   "outputs": [],
   "source": [
    "from scipy.misc import imread\n",
    "mask = imread(\"chinamap.jpg\")\n",
    "excludes = { }\n",
    "f = open(\"新时代中国特色社会主义.txt\", \"r\", encoding=\"utf-8\")\n",
    "t = f.read()\n",
    "f.close()\n",
    "ls = jieba.lcut(t)\n",
    "txt = \" \".join(ls)\n",
    "w = wordcloud.WordCloud(\\\n",
    "    width = 1000, height = 700,\\\n",
    "    background_color = \"white\",\n",
    "    font_path = \"msyh.ttc\", mask = mask\n",
    "    )\n",
    "w.generate(txt)\n",
    "w.to_file(\"grwordcloudm.png\")"
   ]
  }
 ],
 "metadata": {
  "kernelspec": {
   "display_name": "qka",
   "language": "python",
   "name": "qka"
  },
  "language_info": {
   "codemirror_mode": {
    "name": "ipython",
    "version": 3
   },
   "file_extension": ".py",
   "mimetype": "text/x-python",
   "name": "python",
   "nbconvert_exporter": "python",
   "pygments_lexer": "ipython3",
   "version": "3.9.15"
  }
 },
 "nbformat": 4,
 "nbformat_minor": 5
}
