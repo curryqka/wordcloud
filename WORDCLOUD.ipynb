{
 "cells": [
  {
   "cell_type": "code",
   "execution_count": 1,
   "id": "bdb26df1",
   "metadata": {},
   "outputs": [],
   "source": [
    "import jieba\n",
    "import wordcloud"
   ]
  },
  {
   "cell_type": "code",
   "execution_count": 2,
   "id": "6749963a",
   "metadata": {},
   "outputs": [],
   "source": [
    "import matplotlib.font_manager as fm\n",
    "#print(fm.findSystemFonts())\n",
    "#fm.fontManager.addfont('msyh.ttf')"
   ]
  },
  {
   "cell_type": "code",
   "execution_count": 4,
   "id": "cdaaabf5",
   "metadata": {},
   "outputs": [
    {
     "name": "stderr",
     "output_type": "stream",
     "text": [
      "Building prefix dict from the default dictionary ...\n",
      "Dumping model to file cache C:\\WINDOWS\\TEMP\\jieba.cache\n",
      "Loading model cost 1.436 seconds.\n",
      "Prefix dict has been built successfully.\n"
     ]
    },
    {
     "data": {
      "text/plain": [
       "<wordcloud.wordcloud.WordCloud at 0x1404b8afb50>"
      ]
     },
     "execution_count": 4,
     "metadata": {},
     "output_type": "execute_result"
    }
   ],
   "source": [
    "f = open(\"农业报告.txt\", \"r\", encoding=\"utf-8\")\n",
    "\n",
    "t = f.read()\n",
    "f.close()\n",
    "ls = jieba.lcut(t)\n",
    "\n",
    "txt = \" \".join(ls)\n",
    "w = wordcloud.WordCloud( \\\n",
    "    width = 1000, height = 700,\\\n",
    "    background_color = \"white\",\n",
    "    font_path = \"msyh.ttc\" ,\\\n",
    "                        max_words = 100\n",
    "    )\n",
    "w.generate(txt)\n",
    "w.to_file(\"grwordcloud.png\")"
   ]
  },
  {
   "cell_type": "code",
   "execution_count": null,
   "id": "29b99e68",
   "metadata": {},
   "outputs": [],
   "source": [
    "#from scipy.misc import imread\n",
    "import imageio\n",
    "mask = imageio.imread(\"logo.png\")\n",
    "excludes = { }\n",
    "f = open(\"农业报告.txt\", \"r\", encoding=\"utf-8\")\n",
    "t = f.read()\n",
    "f.close()\n",
    "ls = jieba.lcut(t)\n",
    "txt = \" \".join(ls)\n",
    "w = wordcloud.WordCloud(\\\n",
    "    width = 1000, height = 700,\\\n",
    "    background_color = \"white\",\n",
    "    font_path = \"msyh.ttc\", mask = mask\n",
    "    )\n",
    "w.generate(txt)\n",
    "w.to_file(\"grwordcloudm.png\")"
   ]
  },
  {
   "cell_type": "code",
   "execution_count": null,
   "id": "07833d06",
   "metadata": {},
   "outputs": [],
   "source": []
  }
 ],
 "metadata": {
  "kernelspec": {
   "display_name": "WORDCLOUD",
   "language": "python",
   "name": "wordcloud"
  },
  "language_info": {
   "codemirror_mode": {
    "name": "ipython",
    "version": 3
   },
   "file_extension": ".py",
   "mimetype": "text/x-python",
   "name": "python",
   "nbconvert_exporter": "python",
   "pygments_lexer": "ipython3",
   "version": "3.9.0"
  }
 },
 "nbformat": 4,
 "nbformat_minor": 5
}
